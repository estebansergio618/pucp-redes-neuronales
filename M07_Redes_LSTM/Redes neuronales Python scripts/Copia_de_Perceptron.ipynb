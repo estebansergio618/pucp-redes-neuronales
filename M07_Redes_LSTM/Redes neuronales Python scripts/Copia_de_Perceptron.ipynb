{
  "nbformat": 4,
  "nbformat_minor": 0,
  "metadata": {
    "colab": {
      "name": "Copia de Perceptron.ipynb",
      "provenance": []
    },
    "kernelspec": {
      "name": "python3",
      "display_name": "Python 3"
    },
    "language_info": {
      "name": "python"
    }
  },
  "cells": [
    {
      "cell_type": "code",
      "execution_count": 1,
      "metadata": {
        "id": "ALeOP7CVLaPg"
      },
      "outputs": [],
      "source": [
        "import pandas as pd\n",
        "import numpy as np\n",
        "import matplotlib.pyplot as plt\n",
        "from sklearn.preprocessing import StandardScaler, MinMaxScaler\n",
        "from keras.models import Sequential\n",
        "from keras.layers.core import Dense"
      ]
    },
    {
      "cell_type": "code",
      "source": [
        "link = 'https://raw.githubusercontent.com/OrlandoBelli/OBH/master/time%20series.txt'"
      ],
      "metadata": {
        "id": "B54T8svaMad8"
      },
      "execution_count": 2,
      "outputs": []
    },
    {
      "cell_type": "code",
      "source": [
        "df = pd.read_csv(link)\n",
        "df = pd.read_csv(link, sep = ',', parse_dates = [0], header = None, index_col = 0, names = ['fecha','unidades'])"
      ],
      "metadata": {
        "id": "Z2GcxuaZMdBl"
      },
      "execution_count": 3,
      "outputs": []
    },
    {
      "cell_type": "code",
      "source": [
        "melt = df.copy()"
      ],
      "metadata": {
        "id": "Q4tMunyGMhbF"
      },
      "execution_count": 4,
      "outputs": []
    },
    {
      "cell_type": "code",
      "source": [
        "# ------------------------------------\n",
        "# ESCALAMIENTO DE LA TABLA MELT\n",
        "# ------------------------------------\n",
        "\n",
        "escalar = MinMaxScaler()\n",
        "\n",
        "melt = pd.DataFrame(escalar.fit_transform(melt))\n",
        "print(melt)\n",
        "\n",
        "melt.columns = ['unidades']\n",
        "\n",
        "print(melt)\n",
        "# ------------------------------------\n",
        "# GENERAMOS PREDICTORES\n",
        "# ------------------------------------\n",
        "\n",
        "valoresFuturos = ['vf','vf2','vf3','vf4','vf5','vf6','vf7']\n",
        "\n",
        "for i in range(0,len(valoresFuturos)):\n",
        "  melt[valoresFuturos[i]] = melt['unidades'].shift(-(i+1))\n",
        "\n",
        "#ELIMINAR VALORES PERDIDOS PORQUE NO UTILIZARÉ\n",
        "melt = melt.dropna()\n",
        "print(melt)\n",
        "# ------------------------------------\n",
        "# PARTICIÓN DE LA DATA DE ENTRENAMIENTO CON DATA PARA VALIDAR\n",
        "# ------------------------------------\n",
        "\n",
        "# ELIJO LOS ULTIMOS 30 DIAS PARA VALIDAR\n",
        "sp = len(melt) - 30\n",
        "sp\n",
        "\n",
        "dataDeEntrenamiento = melt.iloc[:sp,:]\n",
        "dataValida = melt.iloc[sp:,:].dropna()\n",
        "\n",
        "caracteristicas = melt.columns[:-1]\n",
        "objetivo = melt.columns[-1]\n",
        "\n",
        "# ------------------------------------\n",
        "# MATRIZ DE CARACTERISTICAS EN CADA CONJUNTO DE DATOS\n",
        "# ------------------------------------\n",
        "\n",
        "x = melt[caracteristicas]\n",
        "\n",
        "x_train = dataDeEntrenamiento[caracteristicas]\n",
        "y_train = dataDeEntrenamiento[objetivo].values.reshape(-1,1)\n",
        "\n",
        "x_test = dataValida[caracteristicas]\n",
        "y_test = dataValida[objetivo].values.reshape(-1,1)"
      ],
      "metadata": {
        "id": "WlSVDWKLMi1d",
        "colab": {
          "base_uri": "https://localhost:8080/"
        },
        "outputId": "6ae04dfb-8184-47b0-f902-3740fc01145c"
      },
      "execution_count": 5,
      "outputs": [
        {
          "output_type": "stream",
          "name": "stdout",
          "text": [
            "            0\n",
            "0    0.342593\n",
            "1    0.344444\n",
            "2    0.442593\n",
            "3    0.314815\n",
            "4    0.142593\n",
            "..        ...\n",
            "599  0.416667\n",
            "600  0.312963\n",
            "601  0.244444\n",
            "602  0.370370\n",
            "603  0.255556\n",
            "\n",
            "[604 rows x 1 columns]\n",
            "     unidades\n",
            "0    0.342593\n",
            "1    0.344444\n",
            "2    0.442593\n",
            "3    0.314815\n",
            "4    0.142593\n",
            "..        ...\n",
            "599  0.416667\n",
            "600  0.312963\n",
            "601  0.244444\n",
            "602  0.370370\n",
            "603  0.255556\n",
            "\n",
            "[604 rows x 1 columns]\n",
            "     unidades        vf       vf2       vf3       vf4       vf5       vf6  \\\n",
            "0    0.342593  0.344444  0.442593  0.314815  0.142593  0.448148  0.387037   \n",
            "1    0.344444  0.442593  0.314815  0.142593  0.448148  0.387037  0.283333   \n",
            "2    0.442593  0.314815  0.142593  0.448148  0.387037  0.283333  0.196296   \n",
            "3    0.314815  0.142593  0.448148  0.387037  0.283333  0.196296  0.238889   \n",
            "4    0.142593  0.448148  0.387037  0.283333  0.196296  0.238889  0.177778   \n",
            "..        ...       ...       ...       ...       ...       ...       ...   \n",
            "592  0.288889  0.287037  0.244444  0.275926  0.251852  0.255556  0.046296   \n",
            "593  0.287037  0.244444  0.275926  0.251852  0.255556  0.046296  0.416667   \n",
            "594  0.244444  0.275926  0.251852  0.255556  0.046296  0.416667  0.312963   \n",
            "595  0.275926  0.251852  0.255556  0.046296  0.416667  0.312963  0.244444   \n",
            "596  0.251852  0.255556  0.046296  0.416667  0.312963  0.244444  0.370370   \n",
            "\n",
            "          vf7  \n",
            "0    0.283333  \n",
            "1    0.196296  \n",
            "2    0.238889  \n",
            "3    0.177778  \n",
            "4    0.327778  \n",
            "..        ...  \n",
            "592  0.416667  \n",
            "593  0.312963  \n",
            "594  0.244444  \n",
            "595  0.370370  \n",
            "596  0.255556  \n",
            "\n",
            "[597 rows x 8 columns]\n"
          ]
        }
      ]
    },
    {
      "cell_type": "markdown",
      "source": [
        "CREANDO MODELO DE REDES NEURONALES PERCEPTRON"
      ],
      "metadata": {
        "id": "nToQp9q5NxED"
      }
    },
    {
      "cell_type": "code",
      "source": [
        "# ------------------------------------\n",
        "# CREANDO MODELO TIPO PERCEPTRÓN\n",
        "# ------------------------------------\n",
        "modelo = Sequential()\n",
        "\n",
        "input_dim = len(caracteristicas)\n",
        "output_dim = 1\n",
        "\n",
        "# CAPA DE ENTRADA\n",
        "modelo.add(Dense(40,input_dim = input_dim, activation = 'tanh'))\n",
        "\n",
        "# CAPA OCULTA\n",
        "modelo.add(Dense(units = 100, kernel_initializer='uniform', activation = 'relu'))\n",
        "\n",
        "# CAPA DE SALIDA\n",
        "modelo.add(Dense(units = 1, kernel_initializer='uniform',activation = 'sigmoid'))\n",
        "\n",
        "# GRADIENTE DESCENDIENTE\n",
        "modelo.compile(loss = 'mean_absolute_error', optimizer = 'Adam', metrics=['mse'])\n",
        "\n",
        "# ENTRENAMIENTO\n",
        "history = modelo.fit(x_train,y_train,epochs = 50,validation_data=(x_test,y_test), batch_size = len(caracteristicas))"
      ],
      "metadata": {
        "colab": {
          "base_uri": "https://localhost:8080/"
        },
        "id": "_YiekLemNvMu",
        "outputId": "f013a08b-ded4-414a-f63e-7a6329be0709"
      },
      "execution_count": 6,
      "outputs": [
        {
          "output_type": "stream",
          "name": "stdout",
          "text": [
            "Epoch 1/50\n",
            "81/81 [==============================] - 2s 9ms/step - loss: 0.1358 - mse: 0.0307 - val_loss: 0.0969 - val_mse: 0.0161\n",
            "Epoch 2/50\n",
            "81/81 [==============================] - 1s 6ms/step - loss: 0.1158 - mse: 0.0238 - val_loss: 0.0932 - val_mse: 0.0151\n",
            "Epoch 3/50\n",
            "81/81 [==============================] - 0s 6ms/step - loss: 0.1120 - mse: 0.0227 - val_loss: 0.0777 - val_mse: 0.0114\n",
            "Epoch 4/50\n",
            "81/81 [==============================] - 0s 5ms/step - loss: 0.1084 - mse: 0.0211 - val_loss: 0.0805 - val_mse: 0.0120\n",
            "Epoch 5/50\n",
            "81/81 [==============================] - 1s 8ms/step - loss: 0.1028 - mse: 0.0194 - val_loss: 0.0925 - val_mse: 0.0146\n",
            "Epoch 6/50\n",
            "81/81 [==============================] - 1s 7ms/step - loss: 0.0979 - mse: 0.0174 - val_loss: 0.0893 - val_mse: 0.0137\n",
            "Epoch 7/50\n",
            "81/81 [==============================] - 0s 6ms/step - loss: 0.0919 - mse: 0.0159 - val_loss: 0.0718 - val_mse: 0.0094\n",
            "Epoch 8/50\n",
            "81/81 [==============================] - 0s 6ms/step - loss: 0.0871 - mse: 0.0147 - val_loss: 0.0713 - val_mse: 0.0091\n",
            "Epoch 9/50\n",
            "81/81 [==============================] - 0s 4ms/step - loss: 0.0858 - mse: 0.0143 - val_loss: 0.0754 - val_mse: 0.0102\n",
            "Epoch 10/50\n",
            "81/81 [==============================] - 1s 7ms/step - loss: 0.0849 - mse: 0.0140 - val_loss: 0.0746 - val_mse: 0.0099\n",
            "Epoch 11/50\n",
            "81/81 [==============================] - 0s 5ms/step - loss: 0.0865 - mse: 0.0144 - val_loss: 0.0715 - val_mse: 0.0089\n",
            "Epoch 12/50\n",
            "81/81 [==============================] - 0s 5ms/step - loss: 0.0843 - mse: 0.0138 - val_loss: 0.0714 - val_mse: 0.0089\n",
            "Epoch 13/50\n",
            "81/81 [==============================] - 0s 6ms/step - loss: 0.0843 - mse: 0.0138 - val_loss: 0.0716 - val_mse: 0.0090\n",
            "Epoch 14/50\n",
            "81/81 [==============================] - 0s 6ms/step - loss: 0.0844 - mse: 0.0139 - val_loss: 0.0722 - val_mse: 0.0091\n",
            "Epoch 15/50\n",
            "81/81 [==============================] - 0s 5ms/step - loss: 0.0851 - mse: 0.0138 - val_loss: 0.0747 - val_mse: 0.0090\n",
            "Epoch 16/50\n",
            "81/81 [==============================] - 1s 7ms/step - loss: 0.0848 - mse: 0.0138 - val_loss: 0.0754 - val_mse: 0.0091\n",
            "Epoch 17/50\n",
            "81/81 [==============================] - 0s 6ms/step - loss: 0.0849 - mse: 0.0137 - val_loss: 0.0728 - val_mse: 0.0095\n",
            "Epoch 18/50\n",
            "81/81 [==============================] - 1s 6ms/step - loss: 0.0846 - mse: 0.0137 - val_loss: 0.0744 - val_mse: 0.0089\n",
            "Epoch 19/50\n",
            "81/81 [==============================] - 0s 6ms/step - loss: 0.0848 - mse: 0.0138 - val_loss: 0.0727 - val_mse: 0.0089\n",
            "Epoch 20/50\n",
            "81/81 [==============================] - 1s 8ms/step - loss: 0.0853 - mse: 0.0140 - val_loss: 0.0726 - val_mse: 0.0089\n",
            "Epoch 21/50\n",
            "81/81 [==============================] - 1s 8ms/step - loss: 0.0848 - mse: 0.0137 - val_loss: 0.0724 - val_mse: 0.0094\n",
            "Epoch 22/50\n",
            "81/81 [==============================] - 0s 6ms/step - loss: 0.0848 - mse: 0.0137 - val_loss: 0.0769 - val_mse: 0.0093\n",
            "Epoch 23/50\n",
            "81/81 [==============================] - 1s 8ms/step - loss: 0.0847 - mse: 0.0137 - val_loss: 0.0710 - val_mse: 0.0090\n",
            "Epoch 24/50\n",
            "81/81 [==============================] - 0s 6ms/step - loss: 0.0841 - mse: 0.0136 - val_loss: 0.0713 - val_mse: 0.0091\n",
            "Epoch 25/50\n",
            "81/81 [==============================] - 1s 6ms/step - loss: 0.0839 - mse: 0.0137 - val_loss: 0.0711 - val_mse: 0.0089\n",
            "Epoch 26/50\n",
            "81/81 [==============================] - 1s 8ms/step - loss: 0.0845 - mse: 0.0138 - val_loss: 0.0727 - val_mse: 0.0088\n",
            "Epoch 27/50\n",
            "81/81 [==============================] - 0s 5ms/step - loss: 0.0840 - mse: 0.0136 - val_loss: 0.0719 - val_mse: 0.0088\n",
            "Epoch 28/50\n",
            "81/81 [==============================] - 1s 8ms/step - loss: 0.0839 - mse: 0.0138 - val_loss: 0.0708 - val_mse: 0.0087\n",
            "Epoch 29/50\n",
            "81/81 [==============================] - 1s 8ms/step - loss: 0.0836 - mse: 0.0135 - val_loss: 0.0707 - val_mse: 0.0090\n",
            "Epoch 30/50\n",
            "81/81 [==============================] - 0s 5ms/step - loss: 0.0827 - mse: 0.0134 - val_loss: 0.0716 - val_mse: 0.0092\n",
            "Epoch 31/50\n",
            "81/81 [==============================] - 0s 5ms/step - loss: 0.0829 - mse: 0.0134 - val_loss: 0.0695 - val_mse: 0.0087\n",
            "Epoch 32/50\n",
            "81/81 [==============================] - 1s 8ms/step - loss: 0.0823 - mse: 0.0133 - val_loss: 0.0706 - val_mse: 0.0091\n",
            "Epoch 33/50\n",
            "81/81 [==============================] - 0s 5ms/step - loss: 0.0824 - mse: 0.0133 - val_loss: 0.0685 - val_mse: 0.0086\n",
            "Epoch 34/50\n",
            "81/81 [==============================] - 0s 6ms/step - loss: 0.0813 - mse: 0.0129 - val_loss: 0.0681 - val_mse: 0.0085\n",
            "Epoch 35/50\n",
            "81/81 [==============================] - 0s 5ms/step - loss: 0.0807 - mse: 0.0129 - val_loss: 0.0692 - val_mse: 0.0084\n",
            "Epoch 36/50\n",
            "81/81 [==============================] - 0s 5ms/step - loss: 0.0819 - mse: 0.0133 - val_loss: 0.0683 - val_mse: 0.0083\n",
            "Epoch 37/50\n",
            "81/81 [==============================] - 1s 7ms/step - loss: 0.0804 - mse: 0.0128 - val_loss: 0.0676 - val_mse: 0.0087\n",
            "Epoch 38/50\n",
            "81/81 [==============================] - 0s 5ms/step - loss: 0.0790 - mse: 0.0124 - val_loss: 0.0688 - val_mse: 0.0086\n",
            "Epoch 39/50\n",
            "81/81 [==============================] - 0s 5ms/step - loss: 0.0799 - mse: 0.0124 - val_loss: 0.0682 - val_mse: 0.0085\n",
            "Epoch 40/50\n",
            "81/81 [==============================] - 1s 6ms/step - loss: 0.0815 - mse: 0.0126 - val_loss: 0.0686 - val_mse: 0.0090\n",
            "Epoch 41/50\n",
            "81/81 [==============================] - 1s 7ms/step - loss: 0.0789 - mse: 0.0124 - val_loss: 0.0658 - val_mse: 0.0082\n",
            "Epoch 42/50\n",
            "81/81 [==============================] - 1s 9ms/step - loss: 0.0795 - mse: 0.0123 - val_loss: 0.0659 - val_mse: 0.0081\n",
            "Epoch 43/50\n",
            "81/81 [==============================] - 1s 8ms/step - loss: 0.0777 - mse: 0.0120 - val_loss: 0.0682 - val_mse: 0.0089\n",
            "Epoch 44/50\n",
            "81/81 [==============================] - 0s 6ms/step - loss: 0.0781 - mse: 0.0121 - val_loss: 0.0673 - val_mse: 0.0082\n",
            "Epoch 45/50\n",
            "81/81 [==============================] - 1s 7ms/step - loss: 0.0790 - mse: 0.0122 - val_loss: 0.0655 - val_mse: 0.0084\n",
            "Epoch 46/50\n",
            "81/81 [==============================] - 1s 7ms/step - loss: 0.0776 - mse: 0.0119 - val_loss: 0.0665 - val_mse: 0.0087\n",
            "Epoch 47/50\n",
            "81/81 [==============================] - 1s 7ms/step - loss: 0.0776 - mse: 0.0119 - val_loss: 0.0649 - val_mse: 0.0082\n",
            "Epoch 48/50\n",
            "81/81 [==============================] - 0s 6ms/step - loss: 0.0771 - mse: 0.0119 - val_loss: 0.0651 - val_mse: 0.0084\n",
            "Epoch 49/50\n",
            "81/81 [==============================] - 1s 7ms/step - loss: 0.0776 - mse: 0.0118 - val_loss: 0.0674 - val_mse: 0.0086\n",
            "Epoch 50/50\n",
            "81/81 [==============================] - 1s 7ms/step - loss: 0.0771 - mse: 0.0118 - val_loss: 0.0647 - val_mse: 0.0082\n"
          ]
        }
      ]
    },
    {
      "cell_type": "code",
      "source": [
        "# MIRAMOS LA EVOLUCION DEL ERROR CON EL ECM\n",
        "plt.plot(history.history['loss'], color = 'r', label = 'train')\n",
        "plt.plot(history.history['val_loss'],label = 'test')\n",
        "plt.xlabel('epoch')\n",
        "plt.ylabel('ECM')\n",
        "plt.title('ECM vs. epoch')\n",
        "plt.legend()"
      ],
      "metadata": {
        "colab": {
          "base_uri": "https://localhost:8080/",
          "height": 312
        },
        "id": "KLSi1O6-OEiO",
        "outputId": "d87224cc-7c57-4a30-d4e8-78be71dab466"
      },
      "execution_count": 7,
      "outputs": [
        {
          "output_type": "execute_result",
          "data": {
            "text/plain": [
              "<matplotlib.legend.Legend at 0x7fb6cf67d350>"
            ]
          },
          "metadata": {},
          "execution_count": 7
        },
        {
          "output_type": "display_data",
          "data": {
            "text/plain": [
              "<Figure size 432x288 with 1 Axes>"
            ],
            "image/png": "[encoded data removed]"
          },
          "metadata": {
            "needs_background": "light"
          }
        }
      ]
    },
    {
      "cell_type": "code",
      "source": [
        "#HACEMOS UN MODELO (CON PERCEPTRON) VS DATA REAL TEST\n",
        "\n",
        "results = modelo.predict(x_test)\n",
        "plt.plot(range(len(y_test)), y_test,c='g',label = 'real')\n",
        "plt.plot(range(len(results)), results,c='r',label = 'modelo')\n",
        "plt.title('validate')\n",
        "plt.legend(loc = 'best')\n",
        "plt.show()"
      ],
      "metadata": {
        "colab": {
          "base_uri": "https://localhost:8080/",
          "height": 281
        },
        "id": "zOoaVxboOWaX",
        "outputId": "e729bfa8-9469-4aab-8178-882ca1abff6d"
      },
      "execution_count": 8,
      "outputs": [
        {
          "output_type": "display_data",
          "data": {
            "text/plain": [
              "<Figure size 432x288 with 1 Axes>"
            ],
            "image/png": "[encoded data removed]"
          },
          "metadata": {
            "needs_background": "light"
          }
        }
      ]
    },
    {
      "cell_type": "markdown",
      "source": [
        "PRONOSTICO (TENEMOS SOLO EL VALOR FUTURO)"
      ],
      "metadata": {
        "id": "HnlF3fyx-byv"
      }
    },
    {
      "cell_type": "code",
      "source": [
        "# DATOS BASE PARA EL MODELO\n",
        "ultimos16dias = df[-15:]\n",
        "\n",
        "# ESCALAMIENTO\n",
        "ultimos16dias = pd.DataFrame(escalar.fit_transform(ultimos16dias))\n",
        "ultimos16dias.columns = ['unidades']\n",
        "\n",
        "# VALORES FUTUROS PARA LOS ULTIMOS 16 DIAS\n",
        "for i in range(0,len(valoresFuturos)):\n",
        "  ultimos16dias[valoresFuturos[i]] = ultimos16dias['unidades'].shift(-(i+1))\n",
        "\n",
        "# ELIMINAMOS VALORES NA\n",
        "ultimos16dias = ultimos16dias.dropna()\n",
        "\n",
        "# QUITAMOS LA ULTIMA COLUMNA VF7(TARGET) PORQUE LA VAMOS A PREDECIR\n",
        "ld_train = ultimos16dias.iloc[:,:-1]\n",
        "\n",
        "# SELECCIONAMOS LA ULTIMA FILA\n",
        "x_test = ld_train.iloc[-1,:].values\n",
        "\n",
        "# LO CONVERTIMOS EN UNA MATRIZ DE 1x7\n",
        "x_test = x_test.reshape([1,x_test.shape[0]])\n",
        "\n",
        "# CREAMOS FUNCION PARA PREDECIR n DIAS CON LA MATRIZ x_test\n",
        "# Y GUARDAR EN UNA SECUENCIA RES SUS VALORES DE PREDICCION \n"
      ],
      "metadata": {
        "id": "iz1YGxPBOeCi"
      },
      "execution_count": 9,
      "outputs": []
    },
    {
      "cell_type": "code",
      "source": [
        "x_test[0]"
      ],
      "metadata": {
        "id": "OJZ5kvj7AHfR",
        "outputId": "e3b0f84d-3069-45c7-c606-00faf07f41f2",
        "colab": {
          "base_uri": "https://localhost:8080/"
        }
      },
      "execution_count": 10,
      "outputs": [
        {
          "output_type": "execute_result",
          "data": {
            "text/plain": [
              "array([0.555, 0.565, 0.   , 1.   , 0.72 , 0.535, 0.875])"
            ]
          },
          "metadata": {},
          "execution_count": 10
        }
      ]
    },
    {
      "cell_type": "code",
      "source": [
        "# n_dias : cantidad de dias a predecir\n",
        "\n",
        "res = []\n",
        "def Predecir(n_dias, x_test): # VOID\n",
        "  prediccion = modelo.predict(x_test)[0]\n",
        "\n",
        "  if (n_dias != 0):  \n",
        "    # GUARDA PREDICCIÓN EN RES\n",
        "    res.append(prediccion)\n",
        "\n",
        "    # ROTA EN -1 LA MATRIZ x_test\n",
        "    x_test = np.roll(x_test,-1)\n",
        "\n",
        "    # ULTIMO ELEMENTO DE x_test AHORA ES LA PREDICCION\n",
        "    x_test[0][-1] = prediccion[0] \n",
        "\n",
        "    # HAGO LO MISMO CON LOS DIAS QUE FALTAN PREDECIR  \n",
        "    Predecir(n_dias - 1, x_test)"
      ],
      "metadata": {
        "id": "PGG4kRD2M_a0"
      },
      "execution_count": 11,
      "outputs": []
    },
    {
      "cell_type": "code",
      "source": [
        "# con la función llenamos la lista res que inicialmente estaba vacia\n",
        "# PREDECIMOS 7 DIAS\n",
        "Predecir(7,x_test)\n",
        "res"
      ],
      "metadata": {
        "id": "qdWwVfNrOVpN",
        "outputId": "482b78b0-0186-4174-8e9e-deec78e7be1e",
        "colab": {
          "base_uri": "https://localhost:8080/"
        }
      },
      "execution_count": 12,
      "outputs": [
        {
          "output_type": "execute_result",
          "data": {
            "text/plain": [
              "[array([0.5437482], dtype=float32),\n",
              " array([0.15477231], dtype=float32),\n",
              " array([0.79404676], dtype=float32),\n",
              " array([0.5446878], dtype=float32),\n",
              " array([0.47290838], dtype=float32),\n",
              " array([0.47675508], dtype=float32),\n",
              " array([0.51011133], dtype=float32)]"
            ]
          },
          "metadata": {},
          "execution_count": 12
        }
      ]
    },
    {
      "cell_type": "markdown",
      "source": [
        "Utilizamos la función creada"
      ],
      "metadata": {
        "id": "eybt5UY1OK-s"
      }
    },
    {
      "cell_type": "code",
      "source": [
        "\n",
        "# INVERTIMOS EL ESCALAMIENTO PARA OBTENER LOS VALORES ORIGINALES\n",
        "valoresOriginales = escalar.inverse_transform(res)\n",
        "\n",
        "# LO CONVIERTO EN DATA FRAME PARA HACER EL PLOTEO DEL PRONOSTICO\n",
        "prediccion1semanadediciembre = pd.DataFrame(valoresOriginales)\n",
        "prediccion1semanadediciembre.columns = ['pronostico']\n",
        "\n",
        "# CONCATENO CON LOS ULTIMOS 15 DIAS\n",
        "total = pd.concat([df[-15:], prediccion1semanadediciembre], axis = 0)\n",
        "\n",
        "# PLOTEO\n",
        "plt.plot(np.linspace(0,len(total),len(total)), total.unidades, label = 'real')\n",
        "plt.plot(np.linspace(0,len(total), len(total)), total.pronostico, label = 'pronostico')\n",
        "plt.legend(loc = 'best')"
      ],
      "metadata": {
        "id": "k4UGiN2JOKFc",
        "outputId": "53ae3fe2-9089-4847-ae14-928ab966c58e",
        "colab": {
          "base_uri": "https://localhost:8080/",
          "height": 282
        }
      },
      "execution_count": 13,
      "outputs": [
        {
          "output_type": "execute_result",
          "data": {
            "text/plain": [
              "<matplotlib.legend.Legend at 0x7fb6cf087910>"
            ]
          },
          "metadata": {},
          "execution_count": 13
        },
        {
          "output_type": "display_data",
          "data": {
            "text/plain": [
              "<Figure size 432x288 with 1 Axes>"
            ],
            "image/png": "[encoded data removed]"
          },
          "metadata": {
            "needs_background": "light"
          }
        }
      ]
    }
  ]
}